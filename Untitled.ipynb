{
 "cells": [
  {
   "cell_type": "code",
   "execution_count": 54,
   "id": "01718c7b-bb45-44de-a059-a41ff071bf81",
   "metadata": {},
   "outputs": [
    {
     "name": "stdout",
     "output_type": "stream",
     "text": [
      "[[-1.   -0.75 -0.5  -0.25  0.  ]\n",
      " [-0.75 -0.5  -0.25  0.    0.25]\n",
      " [-0.5  -0.25  0.    0.25  0.5 ]\n",
      " [-0.25  0.    0.25  0.5   0.75]\n",
      " [ 0.    0.25  0.5   0.75  1.  ]]\n",
      "[[-1.   -0.75 -0.5  -0.25  0.  ]\n",
      " [-0.75 -0.5  -0.25  0.    0.25]\n",
      " [-0.5  -0.25  0.    0.25  0.5 ]\n",
      " [-0.25  0.    0.25  0.5   0.75]\n",
      " [ 0.    0.25  0.5   0.75  1.  ]]\n",
      "[[ 0.   -0.25 -0.5  -0.75 -1.  ]\n",
      " [ 0.25  0.   -0.25 -0.5  -0.75]\n",
      " [ 0.5   0.25  0.   -0.25 -0.5 ]\n",
      " [ 0.75  0.5   0.25  0.   -0.25]\n",
      " [ 1.    0.75  0.5   0.25  0.  ]]\n",
      "[[ 0.    0.25  0.5   0.75  1.  ]\n",
      " [-0.25  0.    0.25  0.5   0.75]\n",
      " [-0.5  -0.25  0.    0.25  0.5 ]\n",
      " [-0.75 -0.5  -0.25  0.    0.25]\n",
      " [-1.   -0.75 -0.5  -0.25  0.  ]]\n",
      "-0.0625\n",
      "-0.0625\n",
      "-0.1875\n",
      "-0.1875\n",
      "[[ 1.    0.75  0.5   0.25  0.  ]\n",
      " [ 0.75  0.5   0.25  0.   -0.25]\n",
      " [ 0.5   0.25  0.   -0.25 -0.5 ]\n",
      " [ 0.25  0.   -0.25 -0.5  -0.75]\n",
      " [ 0.   -0.25 -0.5  -0.75 -1.  ]]\n",
      "[[ 1.    0.75  0.5   0.25  0.  ]\n",
      " [ 0.75  0.5   0.25  0.   -0.25]\n",
      " [ 0.5   0.25  0.   -0.25 -0.5 ]\n",
      " [ 0.25  0.   -0.25 -0.5  -0.75]\n",
      " [ 0.   -0.25 -0.5  -0.75 -1.  ]]\n",
      "[[ 1.    0.75  0.5   0.25  0.  ]\n",
      " [ 0.75  0.5   0.25  0.   -0.25]\n",
      " [ 0.5   0.25  0.   -0.25 -0.5 ]\n",
      " [ 0.25  0.   -0.25 -0.5  -0.75]\n",
      " [ 0.   -0.25 -0.5  -0.75 -1.  ]]\n",
      "[[ 1.    0.75  0.5   0.25  0.  ]\n",
      " [ 0.75  0.5   0.25  0.   -0.25]\n",
      " [ 0.5   0.25  0.   -0.25 -0.5 ]\n",
      " [ 0.25  0.   -0.25 -0.5  -0.75]\n",
      " [ 0.   -0.25 -0.5  -0.75 -1.  ]]\n",
      "(5, 6)\n"
     ]
    }
   ],
   "source": [
    "import numpy as np\n",
    "from numpy.typing import NDArray as ndarr\n",
    "\n",
    "gradient = np.linspace(0, 1, 5).reshape(1, 5)*np.linspace(0, 1, 5).reshape(5, 1)\n",
    "\n",
    "gradient = np.outer(np.linspace(0, 1, 5), np.linspace(0, 1, 5))\n",
    "\n",
    "Z = np.outer(np.linspace(-1, 0, 5), np.linspace(1, 0, 5)) + np.outer(np.linspace(0, 1, 5), np.linspace(0, 1, 5))\n",
    "\n",
    "print(Z)\n",
    "print(np.rot90(Z, -0))\n",
    "\n",
    "print(np.rot90(Z, -1))\n",
    "print(np.rot90(Z, 1))\n",
    "\n",
    "\n",
    "for i in range(4): \n",
    "    print(np.mean(gradient*X))\n",
    "    gradient = np.rot90(gradient)\n",
    "\n",
    "def rotate_for_best_view(Z: ndarr) -> ndarr: \n",
    "    gradient = np.outer(np.linspace(0, 1, 5), np.linspace(0, 1, 5))\n",
    "    avg_heights = [np.sum(np.rot90(gradient, -i)*Z) for i in range(4)]\n",
    "    return np.rot90(Z, np.argmin(avg_heights))\n",
    "\n",
    "\n",
    "print(rotate_for_best_view(Z))\n",
    "\n",
    "print(rotate_for_best_view(np.rot90(Z, 1)))\n",
    "\n",
    "print(rotate_for_best_view(np.rot90(Z, 2)))\n",
    "\n",
    "print(rotate_for_best_view(np.rot90(Z, 3)))\n",
    "\n",
    "\n",
    "gradient = np.outer(np.linspace(0, 1, 5), np.linspace(0, 1, 6))\n",
    "print(gradient.shape)\n",
    "        "
   ]
  },
  {
   "cell_type": "code",
   "execution_count": 68,
   "id": "a0ff3c13-2586-411c-9cf6-b62b5a41f6ed",
   "metadata": {},
   "outputs": [
    {
     "name": "stdout",
     "output_type": "stream",
     "text": [
      "[[1.25  1.25  1.25  1.25  1.25 ]\n",
      " [0.    0.625 1.25  1.875 2.5  ]]\n",
      "0.6464466094067263\n",
      "[[0.     0.     0.     0.     0.    ]\n",
      " [0.     0.0625 0.125  0.1875 0.25  ]\n",
      " [0.     0.125  0.25   0.375  0.5   ]\n",
      " [0.     0.1875 0.375  0.5625 0.75  ]\n",
      " [0.     0.25   0.5    0.75   1.    ]]\n"
     ]
    }
   ],
   "source": [
    "gradient = np.sum(np.meshgrid(np.linspace(0, 1, 5), np.linspace(0, 1, 5)), 2)/2\n",
    "print(gradient)\n",
    "print(1-np.sqrt(0.25**2+0.25**2))\n",
    "\n",
    "print(np.outer(np.linspace(0, 1, 5), np.linspace(0, 1, 5)))"
   ]
  }
 ],
 "metadata": {
  "kernelspec": {
   "display_name": "Python 3 (ipykernel)",
   "language": "python",
   "name": "python3"
  },
  "language_info": {
   "codemirror_mode": {
    "name": "ipython",
    "version": 3
   },
   "file_extension": ".py",
   "mimetype": "text/x-python",
   "name": "python",
   "nbconvert_exporter": "python",
   "pygments_lexer": "ipython3",
   "version": "3.12.0"
  }
 },
 "nbformat": 4,
 "nbformat_minor": 5
}
